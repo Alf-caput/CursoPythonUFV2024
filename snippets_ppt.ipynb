{
 "cells": [
  {
   "cell_type": "code",
   "execution_count": 11,
   "metadata": {},
   "outputs": [
    {
     "name": "stdout",
     "output_type": "stream",
     "text": [
      "fib(30)=832040\n",
      "elapsed=0.27622660000088217s\n",
      "------------------------------\n",
      "fib_memo(30)=832040\n",
      "elapsed=8.569999954488594e-05s\n"
     ]
    }
   ],
   "source": [
    "from functools import lru_cache\n",
    "from time import perf_counter\n",
    "def fib(n):\n",
    "    if n <= 1:\n",
    "        return n\n",
    "    else:\n",
    "        return fib(n-2) + fib(n-1)\n",
    "\n",
    "@lru_cache\n",
    "def fib_memoize(n):\n",
    "    if n <= 1:\n",
    "        return n\n",
    "    else:\n",
    "        return fib_memoize(n-2) + fib_memoize(n-1)\n",
    "\n",
    "n = 30\n",
    "start = perf_counter()\n",
    "res = fib(n)\n",
    "stop = perf_counter()\n",
    "elapsed = stop - start\n",
    "print(f\"fib({n})={res}\\n{elapsed=}s\")\n",
    "print('------------------------------')\n",
    "start = perf_counter()\n",
    "res = fib_memoize(n)\n",
    "stop = perf_counter()\n",
    "elapsed = stop - start\n",
    "print(f\"fib_memo({n})={res}\\n{elapsed=}s\")\n"
   ]
  },
  {
   "cell_type": "markdown",
   "metadata": {},
   "source": [
    "```python\n",
    "@lru_cache\n",
    "def fib(n):\n",
    "    if n <= 1:\n",
    "        return n\n",
    "    else:\n",
    "        return fib(n-2) + fib(n-1)\n",
    "```"
   ]
  },
  {
   "cell_type": "markdown",
   "metadata": {},
   "source": [
    "```python\n",
    "# Faces inside processed_frame\n",
    "faces = face_detector.detectMultiScale(processed_frame, minNeighbors=5)\n",
    "\n",
    "if np.any(faces):\n",
    "    # faces is a np.array of np.arrays with x, y, w, h\n",
    "    x1, y1, w1, h1 = max(faces, key=lambda face: face[2] * face[3])\n",
    "\n",
    "    # Slices for readability\n",
    "    face_ypx, face_xpx = slice(y1, y1 + h1), slice(x1, x1 + w1)\n",
    "\n",
    "    # Output frame\n",
    "    face_frame = frame[face_ypx, face_xpx]"
   ]
  },
  {
   "cell_type": "markdown",
   "metadata": {},
   "source": [
    "```python\n",
    "# Correct:\n",
    "# easy to match operators with operands\n",
    "income = (gross_wages\n",
    "          + taxable_interest\n",
    "          + (dividends - qualified_dividends)\n",
    "          - ira_deduction\n",
    "          - student_loan_interest)\n"
   ]
  },
  {
   "cell_type": "markdown",
   "metadata": {},
   "source": [
    "```python\n",
    "# Wrong:\n",
    "# operators sit far away from their operands\n",
    "income = (gross_wages +\n",
    "          taxable_interest +\n",
    "          (dividends - qualified_dividends) -\n",
    "          ira_deduction -\n",
    "          student_loan_interest)"
   ]
  },
  {
   "cell_type": "markdown",
   "metadata": {},
   "source": [
    "```python\n",
    "# Correct:\n",
    "spam(ham[1], {eggs: 2})"
   ]
  },
  {
   "cell_type": "markdown",
   "metadata": {},
   "source": [
    "```python\n",
    "# Wrong:\n",
    "spam( ham[ 1 ], { eggs: 2 } )"
   ]
  },
  {
   "cell_type": "markdown",
   "metadata": {},
   "source": [
    "# Title 1\n",
    "## Title 2\n",
    "\n",
    "- Item 1\n",
    "- Item 2\n",
    "    - Subitem 1\n",
    "    - Subitem 2\n",
    "\n",
    "```python\n",
    "print('Hello world')\n",
    "```\n",
    "No line \n",
    "jump\n",
    "\n",
    "Line\\\n",
    "jump\n"
   ]
  },
  {
   "cell_type": "markdown",
   "metadata": {},
   "source": [
    "$e^i - 1 = 0$"
   ]
  },
  {
   "cell_type": "markdown",
   "metadata": {},
   "source": []
  }
 ],
 "metadata": {
  "kernelspec": {
   "display_name": ".venv",
   "language": "python",
   "name": "python3"
  },
  "language_info": {
   "codemirror_mode": {
    "name": "ipython",
    "version": 3
   },
   "file_extension": ".py",
   "mimetype": "text/x-python",
   "name": "python",
   "nbconvert_exporter": "python",
   "pygments_lexer": "ipython3",
   "version": "3.11.4"
  }
 },
 "nbformat": 4,
 "nbformat_minor": 2
}
