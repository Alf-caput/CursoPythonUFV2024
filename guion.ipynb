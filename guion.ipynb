{
 "cells": [
  {
   "cell_type": "markdown",
   "metadata": {},
   "source": [
    "1. Instalar VSCode\n",
    "2. Instalar Git\n",
    "3. Cuenta Github\n",
    "4. Nuevo repositorio\n",
    "5. Git bash por defecto\n",
    "    - Comandos básicos\n",
    "    - cd <directory>\n",
    "    - ls (-R -F) (<directory>)\n",
    "        - -R recursivamente\n",
    "        - -F distinguir entre archivos y carpetas\n",
    "    - mkdir\n",
    "    - mv <file/directory> <file/directory>\n",
    "        - mover => <file/directory> <directory>\n",
    "        - mover => <file/directory> <directory>\n",
    "        - renombrar => <directory> <directory> ó <file> <file>\n",
    "            (segundo nombre no existe en el directorio actual)\n",
    "    - rm (-rf) <directory>\n",
    "        - -r recursivamente (carpeta no vacía)\n",
    "        - -f forzado (fuerza eliminación sin confirmar)\n",
    "6. Camino 1\n",
    "    - Nuevo repositorio github\n",
    "    - Git:\n",
    "        - git clone <url>\n",
    "    - Alternativa VSCode:\n",
    "        - Source Control VSCode (Activity Bar)\n",
    "        - ...\n",
    "        - clone\n",
    "        - Clone from Github\n",
    "7. Camino 2(No mezclar con creando repositorio desde github manejo de remotes)\n",
    "    - Carpeta local\n",
    "    - Git:\n",
    "        - git init\n",
    "    - Alternativa VSCode:\n",
    "        - Source Control VSCode (Activity Bar)\n",
    "        - Initialize Repository\n",
    "    - Publish branch\n",
    "        - Source Control VSCode (Activity Bar)\n",
    "        - Error si no hay commit\n",
    "        - Si realizado por primera vez pedirá credenciales\n",
    "8. Cambios\n",
    "    - Git:\n",
    "        - git add <file> <file> (...)\n",
    "            - Todos los cambios => git add .\n",
    "        - git commit -m \"<message>\"\n",
    "        - git pull\n",
    "        - git push\n",
    "    - Alternativa VSCode:\n",
    "        - Source Control VSCode (Activity Bar)\n",
    "        - Stage Changes\n",
    "        - Commit\n",
    "        - ...\n",
    "            - Pull\n",
    "            - Push\n",
    "    - git log\n",
    "    - git pull\n",
    "\n"
   ]
  },
  {
   "cell_type": "markdown",
   "metadata": {},
   "source": []
  }
 ],
 "metadata": {
  "language_info": {
   "name": "python"
  }
 },
 "nbformat": 4,
 "nbformat_minor": 2
}
